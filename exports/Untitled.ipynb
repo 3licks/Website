{
 "cells": [
  {
   "cell_type": "code",
   "execution_count": 11,
   "metadata": {},
   "outputs": [],
   "source": [
    "import json\n",
    "import requests\n",
    "\n",
    "c3voc_base = 'https://api.media.ccc.de/public/conferences/emf2018'\n",
    "year = 2018\n",
    "\n",
    "with open(f'./{year}/public/schedule.json', 'r') as f:\n",
    "    schedule = json.load(f)\n",
    "    \n",
    "videos = requests.get(c3voc_base).json()['events']"
   ]
  },
  {
   "cell_type": "code",
   "execution_count": 13,
   "metadata": {},
   "outputs": [],
   "source": [
    "for item in schedule:\n",
    "    for video in videos:\n",
    "        if 'ccc' not in item.get('video', {}):\n",
    "            continue\n",
    "        for video in videos:\n",
    "            if video['frontend_link'] == item['video']['ccc']:\n",
    "                item['video']['preview_image'] = video['poster_url']\n",
    "\n",
    "with open(f'./{year}/public/schedule.json', 'w') as f:\n",
    "    json.dump(schedule, f, indent=2)"
   ]
  }
 ],
 "metadata": {
  "kernelspec": {
   "display_name": "Python 3",
   "language": "python",
   "name": "python3"
  },
  "language_info": {
   "codemirror_mode": {
    "name": "ipython",
    "version": 3
   },
   "file_extension": ".py",
   "mimetype": "text/x-python",
   "name": "python",
   "nbconvert_exporter": "python",
   "pygments_lexer": "ipython3",
   "version": "3.7.4"
  }
 },
 "nbformat": 4,
 "nbformat_minor": 2
}
